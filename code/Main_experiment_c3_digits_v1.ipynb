{
 "cells": [
  {
   "cell_type": "markdown",
   "metadata": {},
   "source": [
    "Статья, из которой заимствован метод оптимизации нейросети:\n",
    "https://arxiv.org/pdf/1704.04289.pdf"
   ]
  },
  {
   "cell_type": "code",
   "execution_count": 5,
   "metadata": {
    "scrolled": false
   },
   "outputs": [],
   "source": [
    "import tensorflow as tf\n",
    "import numpy as np\n",
    "from ipywidgets import IntProgress\n",
    "from tqdm import tqdm_notebook\n",
    "import matplotlib.pyplot as plt\n",
    "%matplotlib inline"
   ]
  },
  {
   "cell_type": "markdown",
   "metadata": {},
   "source": [
    "Класс SimpleTwoLayerNN задает архитектуру полносвязной нейросети с одним скрытым слоем. Принимает на вход размерности входа, скрытого слоя и выхода. Поддерживает задачи классификации и регрессии.\n",
    "\n",
    "Весь функционал модели реализован в классе NNFunctional"
   ]
  },
  {
   "cell_type": "markdown",
   "metadata": {},
   "source": [
    "Класс NNFunctional принимает в качестве парамтеров инициализации нейросеть и параметры для ее обучения и оценки качества. В нем реализованы следующие методы:\n",
    "\n",
    "* fit - оптимизация параметров нейросети с данными ограничениями\n",
    "* prune(p) - зануление p*n_params весов с наименьшим абсолютным значением\n",
    "* disable_optimization(p) - отключение оптимизации для p*n_params весов с наименьшим абсолютным значением в precondition-матрице\n",
    "* reset_all_params - возврат нейросети в исходное состояние для последующего обучения \"с нуля\""
   ]
  },
  {
   "cell_type": "markdown",
   "metadata": {},
   "source": [
    "Проведем вычислительный эксперимент на датасете digits (классификация рукописных цифр, 64 признака, 10 классов).\n",
    "\n",
    "В качестве функции потерь возьмем кроссэнтропию, метрику качества - accuracy."
   ]
  },
  {
   "cell_type": "code",
   "execution_count": 6,
   "metadata": {
    "scrolled": true
   },
   "outputs": [
    {
     "name": "stderr",
     "output_type": "stream",
     "text": [
      "/home/kirill/anaconda3/envs/tf_cpu/lib/python3.6/site-packages/sklearn/cross_validation.py:41: DeprecationWarning: This module was deprecated in version 0.18 in favor of the model_selection module into which all the refactored classes and functions are moved. Also note that the interface of the new CV iterators are different from that of this module. This module will be removed in 0.20.\n",
      "  \"This module will be removed in 0.20.\", DeprecationWarning)\n"
     ]
    }
   ],
   "source": [
    "from sklearn.datasets import load_digits\n",
    "from sklearn.cross_validation import train_test_split\n",
    "digits = load_digits()\n",
    "X_train, X_test, y_train, y_test = train_test_split(digits.data, digits.target, random_state=42, test_size=0.3)\n",
    "y_train = y_train[:, np.newaxis]\n",
    "y_test = y_test[:, np.newaxis]\n",
    "X_mean = X_train.mean(axis=0)\n",
    "X_std = X_train.std(axis=0)\n",
    "eps = 1e-8\n",
    "X_train = (X_train - X_mean) / (X_std + eps)\n",
    "X_test = (X_test - X_mean) / (X_std + eps)\n",
    "X_train = X_train[:, X_std > 0]\n",
    "X_test = X_test[:, X_std > 0]"
   ]
  },
  {
   "cell_type": "code",
   "execution_count": 7,
   "metadata": {},
   "outputs": [],
   "source": [
    "from architectures import SimpleTwoLayerNN\n",
    "from functional import NNFunctional"
   ]
  },
  {
   "cell_type": "code",
   "execution_count": 8,
   "metadata": {},
   "outputs": [],
   "source": [
    "nn = SimpleTwoLayerNN(X_train.shape[1], 32, 10, mode='classification')\n",
    "func = NNFunctional(model=nn, \n",
    "                    loss=tf.losses.sparse_softmax_cross_entropy, \n",
    "                    metric=lambda x, y:tf.metrics.accuracy(x, y)[1],\n",
    "                    learning_rate=0.01,\n",
    "                    k_coef=1,\n",
    "                    batch_size=32)"
   ]
  },
  {
   "cell_type": "markdown",
   "metadata": {},
   "source": [
    "### Prune"
   ]
  },
  {
   "cell_type": "markdown",
   "metadata": {},
   "source": [
    "Для разных значений р проведем 1000 шагов полной оптимизации, затем занулим p*N весов и проведем еще 4000 шагов оптимизации остальных весов. Построим график качества модели в зависимости от р"
   ]
  },
  {
   "cell_type": "code",
   "execution_count": 7,
   "metadata": {},
   "outputs": [
    {
     "data": {
      "application/vnd.jupyter.widget-view+json": {
       "model_id": "9b0f4fa8e2ae4b3fa85bcc6d5bc33884",
       "version_major": 2,
       "version_minor": 0
      },
      "text/plain": [
       "HBox(children=(IntProgress(value=0, max=50), HTML(value='')))"
      ]
     },
     "metadata": {},
     "output_type": "display_data"
    },
    {
     "name": "stdout",
     "output_type": "stream",
     "text": [
      "\n"
     ]
    }
   ],
   "source": [
    "prune_params = np.linspace(0, 1, 51)[:-1]\n",
    "train_accs = []\n",
    "val_accs = []\n",
    "for p in tqdm_notebook(prune_params):\n",
    "    train_acc = []\n",
    "    val_acc = []\n",
    "    for _ in range(5):\n",
    "        train_history, val_history = func.fit(X_train,\n",
    "                                             y_train,\n",
    "                                             steps=200,\n",
    "                                             val_data=(X_test, y_test),\n",
    "                                             verbose_freq=199,\n",
    "                                             warm_start=False,\n",
    "                                             print_out=False,\n",
    "                                             tqdm=False\n",
    "                                            )\n",
    "        func.prune(p)\n",
    "        train_history, val_history = func.fit(X_train,\n",
    "                                             y_train,\n",
    "                                             steps=3000,\n",
    "                                             val_data=(X_test, y_test),\n",
    "                                             verbose_freq=2999,\n",
    "                                             warm_start=True,\n",
    "                                             print_out=False,\n",
    "                                             tqdm=False\n",
    "                                            )\n",
    "        func.reset_all_params()\n",
    "        train_acc.append(train_history[-1])\n",
    "        val_acc.append(val_history[-1])\n",
    "    train_accs.append(train_acc)\n",
    "    val_accs.append(val_acc)"
   ]
  },
  {
   "cell_type": "code",
   "execution_count": 8,
   "metadata": {},
   "outputs": [],
   "source": [
    "train_accs = np.array(train_accs)\n",
    "val_accs = np.array(val_accs)"
   ]
  },
  {
   "cell_type": "code",
   "execution_count": 9,
   "metadata": {},
   "outputs": [],
   "source": [
    "np.savetxt('./results/prune_train_acc.txt', train_accs)\n",
    "np.savetxt('./results/prune_val_acc.txt', val_accs)"
   ]
  },
  {
   "cell_type": "markdown",
   "metadata": {},
   "source": [
    "### Disable optimization"
   ]
  },
  {
   "cell_type": "markdown",
   "metadata": {},
   "source": [
    "Для разных значений р проведем 1000 шагов полной оптимизации, затем отключим оптимизацию для p*N параметров и проведем еще 4000 шагов оптимизации остальных весов. Построим график качества модели в зависимости от р"
   ]
  },
  {
   "cell_type": "code",
   "execution_count": 10,
   "metadata": {},
   "outputs": [
    {
     "data": {
      "application/vnd.jupyter.widget-view+json": {
       "model_id": "00ca3d6727af4338ad9b00ab0181592c",
       "version_major": 2,
       "version_minor": 0
      },
      "text/plain": [
       "HBox(children=(IntProgress(value=0, max=51), HTML(value='')))"
      ]
     },
     "metadata": {},
     "output_type": "display_data"
    },
    {
     "name": "stdout",
     "output_type": "stream",
     "text": [
      "\n"
     ]
    }
   ],
   "source": [
    "disable_params = np.linspace(0, 1, 51)\n",
    "train_accs_disable = []\n",
    "val_accs_disable = []\n",
    "for p in tqdm_notebook(disable_params):\n",
    "    train_acc = []\n",
    "    val_acc = []\n",
    "    for _ in range(5):\n",
    "        train_history, val_history = func.fit(X_train,\n",
    "                                             y_train,\n",
    "                                             steps=200,\n",
    "                                             val_data=(X_test, y_test),\n",
    "                                             verbose_freq=199,\n",
    "                                             warm_start=False,\n",
    "                                             print_out=False,\n",
    "                                             tqdm=False\n",
    "                                            )\n",
    "        func.disable_optimization(p, mode='H')\n",
    "        train_history, val_history = func.fit(X_train,\n",
    "                                             y_train,\n",
    "                                             steps=3000,\n",
    "                                             val_data=(X_test, y_test),\n",
    "                                             verbose_freq=2999,\n",
    "                                             warm_start=True,\n",
    "                                             print_out=False,\n",
    "                                             tqdm=False\n",
    "                                            )\n",
    "        func.reset_all_params()\n",
    "        train_acc.append(train_history[-1])\n",
    "        val_acc.append(val_history[-1])\n",
    "    train_accs_disable.append(train_acc)\n",
    "    val_accs_disable.append(val_acc)"
   ]
  },
  {
   "cell_type": "code",
   "execution_count": 11,
   "metadata": {},
   "outputs": [
    {
     "name": "stdout",
     "output_type": "stream",
     "text": [
      "(51, 5) (51, 5)\n"
     ]
    }
   ],
   "source": [
    "train_accs_disable = np.array(train_accs_disable)\n",
    "val_accs_disable = np.array(val_accs_disable)\n",
    "print(train_accs_disable.shape, val_accs_disable.shape)"
   ]
  },
  {
   "cell_type": "code",
   "execution_count": 12,
   "metadata": {},
   "outputs": [],
   "source": [
    "np.savetxt('./disable_train_acc.txt', train_accs_disable)\n",
    "np.savetxt('./disable_val_acc.txt', val_accs_disable)"
   ]
  },
  {
   "cell_type": "markdown",
   "metadata": {},
   "source": [
    "### Базовый алгоритм"
   ]
  },
  {
   "cell_type": "markdown",
   "metadata": {},
   "source": [
    "### Disable optimization (minimal)"
   ]
  },
  {
   "cell_type": "code",
   "execution_count": 13,
   "metadata": {
    "scrolled": true
   },
   "outputs": [
    {
     "data": {
      "application/vnd.jupyter.widget-view+json": {
       "model_id": "2b1a79945efe438c96dca06e34a69384",
       "version_major": 2,
       "version_minor": 0
      },
      "text/plain": [
       "HBox(children=(IntProgress(value=0, max=51), HTML(value='')))"
      ]
     },
     "metadata": {},
     "output_type": "display_data"
    },
    {
     "name": "stdout",
     "output_type": "stream",
     "text": [
      "\n"
     ]
    }
   ],
   "source": [
    "disable_params = np.linspace(0, 1, 51)\n",
    "train_accs_disable_base = []\n",
    "val_accs_disable_base = []\n",
    "for p in tqdm_notebook(disable_params):\n",
    "    train_acc = []\n",
    "    val_acc = []\n",
    "    for _ in range(5):\n",
    "        train_history, val_history = func.fit(X_train,\n",
    "                                             y_train,\n",
    "                                             steps=200,\n",
    "                                             val_data=(X_test, y_test),\n",
    "                                             verbose_freq=199,\n",
    "                                             warm_start=False,\n",
    "                                             print_out=False,\n",
    "                                             tqdm=False\n",
    "                                            )\n",
    "        func.disable_optimization(p, mode='minimal')\n",
    "        train_history, val_history = func.fit(X_train,\n",
    "                                             y_train,\n",
    "                                             steps=3000,\n",
    "                                             val_data=(X_test, y_test),\n",
    "                                             verbose_freq=2999,\n",
    "                                             warm_start=True,\n",
    "                                             print_out=False,\n",
    "                                             tqdm=False\n",
    "                                            )\n",
    "        func.reset_all_params()\n",
    "        train_acc.append(train_history[-1])\n",
    "        val_acc.append(val_history[-1])\n",
    "    train_accs_disable_base.append(train_acc)\n",
    "    val_accs_disable_base.append(val_acc)"
   ]
  },
  {
   "cell_type": "code",
   "execution_count": 14,
   "metadata": {},
   "outputs": [],
   "source": [
    "train_accs_disable_base = np.array(train_accs_disable_base)\n",
    "val_accs_disable_base = np.array(val_accs_disable_base)"
   ]
  },
  {
   "cell_type": "code",
   "execution_count": 15,
   "metadata": {},
   "outputs": [],
   "source": [
    "np.savetxt('./results/disable_train_acc_base.txt', train_accs_disable_base)\n",
    "np.savetxt('./results/disable_val_acc_base.txt', val_accs_disable_base)"
   ]
  },
  {
   "cell_type": "markdown",
   "metadata": {},
   "source": [
    "## Случайный выбор параметров"
   ]
  },
  {
   "cell_type": "markdown",
   "metadata": {},
   "source": [
    "### Disable optmization (random)"
   ]
  },
  {
   "cell_type": "code",
   "execution_count": 16,
   "metadata": {},
   "outputs": [
    {
     "data": {
      "application/vnd.jupyter.widget-view+json": {
       "model_id": "61844daeeb7e4e4c80dd6313d04837df",
       "version_major": 2,
       "version_minor": 0
      },
      "text/plain": [
       "HBox(children=(IntProgress(value=0, max=51), HTML(value='')))"
      ]
     },
     "metadata": {},
     "output_type": "display_data"
    },
    {
     "name": "stdout",
     "output_type": "stream",
     "text": [
      "\n"
     ]
    }
   ],
   "source": [
    "disable_params = np.linspace(0, 1, 51)\n",
    "train_accs_disable_random = []\n",
    "val_accs_disable_random = []\n",
    "for p in tqdm_notebook(disable_params):\n",
    "    train_acc = []\n",
    "    val_acc = []\n",
    "    for _ in range(5):\n",
    "        train_history, val_history = func.fit(X_train,\n",
    "                                             y_train,\n",
    "                                             steps=200,\n",
    "                                             val_data=(X_test, y_test),\n",
    "                                             verbose_freq=199,\n",
    "                                             warm_start=False,\n",
    "                                             print_out=False,\n",
    "                                             tqdm=False\n",
    "                                            )\n",
    "        func.disable_optimization(p, mode='random')\n",
    "        train_history, val_history = func.fit(X_train,\n",
    "                                             y_train,\n",
    "                                             steps=3000,\n",
    "                                             val_data=(X_test, y_test),\n",
    "                                             verbose_freq=2999,\n",
    "                                             warm_start=True,\n",
    "                                             print_out=False,\n",
    "                                             tqdm=False\n",
    "                                            )\n",
    "        func.reset_all_params()\n",
    "        train_acc.append(train_history[-1])\n",
    "        val_acc.append(val_history[-1])\n",
    "    train_accs_disable_random.append(train_acc)\n",
    "    val_accs_disable_random.append(val_acc)"
   ]
  },
  {
   "cell_type": "code",
   "execution_count": 17,
   "metadata": {},
   "outputs": [],
   "source": [
    "train_accs_disable_random = np.array(train_accs_disable_random)\n",
    "val_accs_disable_random = np.array(val_accs_disable_random)"
   ]
  },
  {
   "cell_type": "code",
   "execution_count": 18,
   "metadata": {},
   "outputs": [],
   "source": [
    "np.savetxt('./results/disable_train_acc_random.txt', train_accs_disable_random)\n",
    "np.savetxt('./results/disable_val_acc_random.txt', val_accs_disable_random)"
   ]
  },
  {
   "cell_type": "markdown",
   "metadata": {},
   "source": [
    "### Prune (random)"
   ]
  },
  {
   "cell_type": "code",
   "execution_count": 19,
   "metadata": {
    "scrolled": true
   },
   "outputs": [
    {
     "data": {
      "application/vnd.jupyter.widget-view+json": {
       "model_id": "067ce3fae1184e03bc8e52ef593372f5",
       "version_major": 2,
       "version_minor": 0
      },
      "text/plain": [
       "HBox(children=(IntProgress(value=0, max=50), HTML(value='')))"
      ]
     },
     "metadata": {},
     "output_type": "display_data"
    },
    {
     "name": "stdout",
     "output_type": "stream",
     "text": [
      "\n"
     ]
    }
   ],
   "source": [
    "prune_params = np.linspace(0, 1, 51)[:-1]\n",
    "train_accs_prune_random = []\n",
    "val_accs_prune_random = []\n",
    "for p in tqdm_notebook(prune_params):\n",
    "    train_acc = []\n",
    "    val_acc = []\n",
    "    for _ in range(5):\n",
    "        train_history, val_history = func.fit(X_train,\n",
    "                                             y_train,\n",
    "                                             steps=200,\n",
    "                                             val_data=(X_test, y_test),\n",
    "                                             verbose_freq=199,\n",
    "                                             warm_start=False,\n",
    "                                             print_out=False,\n",
    "                                             tqdm=False\n",
    "                                            )\n",
    "        func.prune(p, mode='random')\n",
    "        train_history, val_history = func.fit(X_train,\n",
    "                                             y_train,\n",
    "                                             steps=3000,\n",
    "                                             val_data=(X_test, y_test),\n",
    "                                             verbose_freq=2999,\n",
    "                                             warm_start=True,\n",
    "                                             print_out=False,\n",
    "                                             tqdm=False\n",
    "                                            )\n",
    "        func.reset_all_params()\n",
    "        train_acc.append(train_history[-1])\n",
    "        val_acc.append(val_history[-1])\n",
    "    train_accs_prune_random.append(train_acc)\n",
    "    val_accs_prune_random.append(val_acc)"
   ]
  },
  {
   "cell_type": "code",
   "execution_count": 20,
   "metadata": {},
   "outputs": [],
   "source": [
    "train_accs_prune_random = np.array(train_accs_prune_random)\n",
    "val_accs_prune_random = np.array(val_accs_prune_random)"
   ]
  },
  {
   "cell_type": "code",
   "execution_count": 21,
   "metadata": {},
   "outputs": [],
   "source": [
    "np.savetxt('./results/prune_train_acc_random.txt', train_accs_prune_random)\n",
    "np.savetxt('./results/prune_val_acc_random.txt', val_accs_prune_random)"
   ]
  },
  {
   "cell_type": "code",
   "execution_count": null,
   "metadata": {},
   "outputs": [],
   "source": []
  }
 ],
 "metadata": {
  "kernelspec": {
   "display_name": "Tensorflow (CPU)",
   "language": "python",
   "name": "tensorflow-cpu"
  },
  "language_info": {
   "codemirror_mode": {
    "name": "ipython",
    "version": 3
   },
   "file_extension": ".py",
   "mimetype": "text/x-python",
   "name": "python",
   "nbconvert_exporter": "python",
   "pygments_lexer": "ipython3",
   "version": "3.6.5"
  }
 },
 "nbformat": 4,
 "nbformat_minor": 2
}
